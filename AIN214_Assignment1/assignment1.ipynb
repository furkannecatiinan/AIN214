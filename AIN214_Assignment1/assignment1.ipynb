{
 "cells": [
  {
   "cell_type": "markdown",
   "metadata": {
    "id": "-JsD4n549KSW"
   },
   "source": [
    "# **AIN 214 - PA1 - FALL 2024**"
   ]
  },
  {
   "cell_type": "markdown",
   "metadata": {
    "id": "jeu4gamv8uxb"
   },
   "source": [
    "**Name Surname**   : Furkan Necati İNAN"
   ]
  },
  {
   "cell_type": "markdown",
   "metadata": {
    "id": "so7UTKwA8ULy"
   },
   "source": [
    "\n",
    "BELOW MD CELLS CONTAIN THE QUESTIONS YOU ARE ASKED TO IMPLEMENT WITHIN THE CONTEXT OF THIS HW. PLEASE FILL IN THE CELLS FOR THE ANSWERS RIGHT BELOW THE MD CELL OF THE QUESTION. YOU CAN ADD AS MANY CELLS AS YOU WANT, BE IT CODE OR MD, SO LONG AS YOU PROVIDE AN UNDERSTANDABLE AND TRACBLE REPORTING. PLEASE ADD COMMENTS ON YOUR CODES. ALSO, FILL IN MD CELLS WHERE YOU ARE ASKED YO COMMENT ON YOUR RESULTS OR EPXLAIN YOUR REASONING. ALSO, PLEASE DO NO HESITATE TO USE THEM FOR YOUR OWN REPORTING PURPOSES. PLEASE KEEP IN MIND THAT, REPORTING IS A KEY STEP IN DATA SCIENCE.\n",
    "\n",
    "**Deadline: 18.10.2023 (23:59:59)**\n",
    "\n",
    "**Submission:** Submit your Jupyter Notebooks via https://submit.cs.hacettepe.edu.tr/"
   ]
  },
  {
   "cell_type": "markdown",
   "metadata": {
    "id": "l9crUPV39bKP"
   },
   "source": [
    "# **Necessary Imports**"
   ]
  },
  {
   "cell_type": "code",
   "execution_count": 4,
   "metadata": {},
   "outputs": [],
   "source": [
    "import sqlite3\n",
    "import pandas as pd\n",
    "import numpy as np"
   ]
  },
  {
   "cell_type": "markdown",
   "metadata": {
    "id": "YzjmuhYk90CY"
   },
   "source": [
    "# **Notes:**\n",
    "\n",
    "* Use pandas dataframe (df) to load the data.\n",
    "\n",
    "* Use numpy or pandas operations for the requested tasks unless otherwise specified.\n",
    "\n",
    "* Use of naive for loops is not considered valid.\n",
    "\n",
    "* For the db operations, use sqlite3 library in Python"
   ]
  },
  {
   "cell_type": "markdown",
   "metadata": {
    "id": "ErBKcN6KBvW8"
   },
   "source": [
    "# **PART- 1**\n",
    "\n",
    "**Set of Questions on World Happiness Report Dataset (40 Pts)**\n",
    "\n",
    "**Dataset Path: \"Data/WorldHappinessReport.csv\"**"
   ]
  },
  {
   "cell_type": "markdown",
   "metadata": {
    "id": "GWggnrTxCQJD"
   },
   "source": [
    "# Q1. Basic Data Exploration **(10 Pts)**\n",
    "\n",
    "1. Load the data into Pandas DataFrame and print the column names. **(1 pts)**\n",
    "2. Display the first and last 10 rows of the dataset. **(1 pts)**\n",
    "3. Display random 10 rows. **(1 pts)**\n",
    "4. Display random 10 rows with a seed, ie, it outputs the same random rows everytime it is run. **(1 pts)**\n",
    "5. Display every 10th row. **(1 pts)**\n",
    "6. Get the summary stats of the dataset regarding each column. **(2 pts)**\n",
    "7. Identify and count the number of missing values in each column. **(3 pts)**"
   ]
  },
  {
   "cell_type": "code",
   "execution_count": 9,
   "metadata": {
    "id": "_NzJ6GYkD1aY"
   },
   "outputs": [],
   "source": [
    "#1 Load the data into Pandas DataFrame and print the column names\n",
    "df = pd.read_csv(\"Data/WorldHappinessReport.csv\")"
   ]
  },
  {
   "cell_type": "code",
   "execution_count": 11,
   "metadata": {
    "id": "Z-m2CigRD26Z"
   },
   "outputs": [
    {
     "name": "stdout",
     "output_type": "stream",
     "text": [
      "   Overall rank Country or region  Score  GDP per capita  Social support  \\\n",
      "0             1           Finland  7.632           1.305           1.592   \n",
      "1             2            Norway  7.594           1.456           1.582   \n",
      "2             3           Denmark  7.555           1.351           1.590   \n",
      "3             4           Iceland  7.495           1.343           1.644   \n",
      "4             5       Switzerland  7.487           1.420           1.549   \n",
      "5             6       Netherlands  7.441           1.361           1.488   \n",
      "6             7            Canada  7.328           1.330           1.532   \n",
      "7             8       New Zealand  7.324           1.268           1.601   \n",
      "8             9            Sweden  7.314           1.355           1.501   \n",
      "9            10         Australia  7.272           1.340           1.573   \n",
      "\n",
      "   Healthy life expectancy  Freedom to make life choices  Generosity  \\\n",
      "0                    0.874                         0.681       0.202   \n",
      "1                    0.861                         0.686       0.286   \n",
      "2                    0.868                         0.683       0.284   \n",
      "3                    0.914                         0.677       0.353   \n",
      "4                    0.927                         0.660       0.256   \n",
      "5                    0.878                         0.638       0.333   \n",
      "6                    0.896                         0.653       0.321   \n",
      "7                    0.876                         0.669       0.365   \n",
      "8                    0.913                         0.659       0.285   \n",
      "9                    0.910                         0.647       0.361   \n",
      "\n",
      "   Perceptions of corruption  \n",
      "0                      0.393  \n",
      "1                      0.340  \n",
      "2                      0.408  \n",
      "3                      0.138  \n",
      "4                      0.357  \n",
      "5                      0.295  \n",
      "6                      0.291  \n",
      "7                      0.389  \n",
      "8                      0.383  \n",
      "9                      0.302  \n",
      "     Overall rank         Country or region  Score  GDP per capita  \\\n",
      "146           147                    Malawi  3.587           0.186   \n",
      "147           148                     Haiti  3.582           0.315   \n",
      "148           149                   Liberia  3.495           0.076   \n",
      "149           150                     Syria  3.462           0.689   \n",
      "150           151                    Rwanda  3.408           0.332   \n",
      "151           152                     Yemen  3.355           0.442   \n",
      "152           153                  Tanzania  3.303           0.455   \n",
      "153           154               South Sudan  3.254           0.337   \n",
      "154           155  Central African Republic  3.083           0.024   \n",
      "155           156                   Burundi  2.905           0.091   \n",
      "\n",
      "     Social support  Healthy life expectancy  Freedom to make life choices  \\\n",
      "146           0.541                    0.306                         0.531   \n",
      "147           0.714                    0.289                         0.025   \n",
      "148           0.858                    0.267                         0.419   \n",
      "149           0.382                    0.539                         0.088   \n",
      "150           0.896                    0.400                         0.636   \n",
      "151           1.073                    0.343                         0.244   \n",
      "152           0.991                    0.381                         0.481   \n",
      "153           0.608                    0.177                         0.112   \n",
      "154           0.000                    0.010                         0.305   \n",
      "155           0.627                    0.145                         0.065   \n",
      "\n",
      "     Generosity  Perceptions of corruption  \n",
      "146       0.210                      0.080  \n",
      "147       0.392                      0.104  \n",
      "148       0.206                      0.030  \n",
      "149       0.376                      0.144  \n",
      "150       0.200                      0.444  \n",
      "151       0.083                      0.064  \n",
      "152       0.270                      0.097  \n",
      "153       0.224                      0.106  \n",
      "154       0.218                      0.038  \n",
      "155       0.149                      0.076  \n"
     ]
    }
   ],
   "source": [
    "#2 Display the first and last 10 rows of the dataset.\n",
    "print(df.head(10))\n",
    "print(df.tail(10))"
   ]
  },
  {
   "cell_type": "code",
   "execution_count": 13,
   "metadata": {
    "id": "XmyRJcvED4P2"
   },
   "outputs": [
    {
     "data": {
      "text/html": [
       "<div>\n",
       "<style scoped>\n",
       "    .dataframe tbody tr th:only-of-type {\n",
       "        vertical-align: middle;\n",
       "    }\n",
       "\n",
       "    .dataframe tbody tr th {\n",
       "        vertical-align: top;\n",
       "    }\n",
       "\n",
       "    .dataframe thead th {\n",
       "        text-align: right;\n",
       "    }\n",
       "</style>\n",
       "<table border=\"1\" class=\"dataframe\">\n",
       "  <thead>\n",
       "    <tr style=\"text-align: right;\">\n",
       "      <th></th>\n",
       "      <th>Overall rank</th>\n",
       "      <th>Country or region</th>\n",
       "      <th>Score</th>\n",
       "      <th>GDP per capita</th>\n",
       "      <th>Social support</th>\n",
       "      <th>Healthy life expectancy</th>\n",
       "      <th>Freedom to make life choices</th>\n",
       "      <th>Generosity</th>\n",
       "      <th>Perceptions of corruption</th>\n",
       "    </tr>\n",
       "  </thead>\n",
       "  <tbody>\n",
       "    <tr>\n",
       "      <th>75</th>\n",
       "      <td>76</td>\n",
       "      <td>Hong Kong</td>\n",
       "      <td>5.430</td>\n",
       "      <td>1.405</td>\n",
       "      <td>1.290</td>\n",
       "      <td>1.030</td>\n",
       "      <td>0.524</td>\n",
       "      <td>0.246</td>\n",
       "      <td>0.291</td>\n",
       "    </tr>\n",
       "    <tr>\n",
       "      <th>17</th>\n",
       "      <td>18</td>\n",
       "      <td>United States</td>\n",
       "      <td>6.886</td>\n",
       "      <td>1.398</td>\n",
       "      <td>1.471</td>\n",
       "      <td>0.819</td>\n",
       "      <td>0.547</td>\n",
       "      <td>0.291</td>\n",
       "      <td>0.133</td>\n",
       "    </tr>\n",
       "    <tr>\n",
       "      <th>9</th>\n",
       "      <td>10</td>\n",
       "      <td>Australia</td>\n",
       "      <td>7.272</td>\n",
       "      <td>1.340</td>\n",
       "      <td>1.573</td>\n",
       "      <td>0.910</td>\n",
       "      <td>0.647</td>\n",
       "      <td>0.361</td>\n",
       "      <td>0.302</td>\n",
       "    </tr>\n",
       "    <tr>\n",
       "      <th>126</th>\n",
       "      <td>127</td>\n",
       "      <td>Ethiopia</td>\n",
       "      <td>4.350</td>\n",
       "      <td>0.308</td>\n",
       "      <td>0.950</td>\n",
       "      <td>0.391</td>\n",
       "      <td>0.452</td>\n",
       "      <td>0.220</td>\n",
       "      <td>0.146</td>\n",
       "    </tr>\n",
       "    <tr>\n",
       "      <th>102</th>\n",
       "      <td>103</td>\n",
       "      <td>Gabon</td>\n",
       "      <td>4.758</td>\n",
       "      <td>1.036</td>\n",
       "      <td>1.164</td>\n",
       "      <td>0.404</td>\n",
       "      <td>0.356</td>\n",
       "      <td>0.032</td>\n",
       "      <td>0.052</td>\n",
       "    </tr>\n",
       "    <tr>\n",
       "      <th>49</th>\n",
       "      <td>50</td>\n",
       "      <td>Lithuania</td>\n",
       "      <td>5.952</td>\n",
       "      <td>1.197</td>\n",
       "      <td>1.527</td>\n",
       "      <td>0.716</td>\n",
       "      <td>0.350</td>\n",
       "      <td>0.026</td>\n",
       "      <td>0.006</td>\n",
       "    </tr>\n",
       "    <tr>\n",
       "      <th>4</th>\n",
       "      <td>5</td>\n",
       "      <td>Switzerland</td>\n",
       "      <td>7.487</td>\n",
       "      <td>1.420</td>\n",
       "      <td>1.549</td>\n",
       "      <td>0.927</td>\n",
       "      <td>0.660</td>\n",
       "      <td>0.256</td>\n",
       "      <td>0.357</td>\n",
       "    </tr>\n",
       "    <tr>\n",
       "      <th>88</th>\n",
       "      <td>89</td>\n",
       "      <td>Macedonia</td>\n",
       "      <td>5.185</td>\n",
       "      <td>0.959</td>\n",
       "      <td>1.239</td>\n",
       "      <td>0.691</td>\n",
       "      <td>0.394</td>\n",
       "      <td>0.173</td>\n",
       "      <td>0.052</td>\n",
       "    </tr>\n",
       "    <tr>\n",
       "      <th>99</th>\n",
       "      <td>100</td>\n",
       "      <td>Bulgaria</td>\n",
       "      <td>4.933</td>\n",
       "      <td>1.054</td>\n",
       "      <td>1.515</td>\n",
       "      <td>0.712</td>\n",
       "      <td>0.359</td>\n",
       "      <td>0.064</td>\n",
       "      <td>0.009</td>\n",
       "    </tr>\n",
       "    <tr>\n",
       "      <th>117</th>\n",
       "      <td>118</td>\n",
       "      <td>Mali</td>\n",
       "      <td>4.447</td>\n",
       "      <td>0.370</td>\n",
       "      <td>1.233</td>\n",
       "      <td>0.152</td>\n",
       "      <td>0.367</td>\n",
       "      <td>0.139</td>\n",
       "      <td>0.056</td>\n",
       "    </tr>\n",
       "  </tbody>\n",
       "</table>\n",
       "</div>"
      ],
      "text/plain": [
       "     Overall rank Country or region  Score  GDP per capita  Social support  \\\n",
       "75             76         Hong Kong  5.430           1.405           1.290   \n",
       "17             18     United States  6.886           1.398           1.471   \n",
       "9              10         Australia  7.272           1.340           1.573   \n",
       "126           127          Ethiopia  4.350           0.308           0.950   \n",
       "102           103             Gabon  4.758           1.036           1.164   \n",
       "49             50         Lithuania  5.952           1.197           1.527   \n",
       "4               5       Switzerland  7.487           1.420           1.549   \n",
       "88             89         Macedonia  5.185           0.959           1.239   \n",
       "99            100          Bulgaria  4.933           1.054           1.515   \n",
       "117           118              Mali  4.447           0.370           1.233   \n",
       "\n",
       "     Healthy life expectancy  Freedom to make life choices  Generosity  \\\n",
       "75                     1.030                         0.524       0.246   \n",
       "17                     0.819                         0.547       0.291   \n",
       "9                      0.910                         0.647       0.361   \n",
       "126                    0.391                         0.452       0.220   \n",
       "102                    0.404                         0.356       0.032   \n",
       "49                     0.716                         0.350       0.026   \n",
       "4                      0.927                         0.660       0.256   \n",
       "88                     0.691                         0.394       0.173   \n",
       "99                     0.712                         0.359       0.064   \n",
       "117                    0.152                         0.367       0.139   \n",
       "\n",
       "     Perceptions of corruption  \n",
       "75                       0.291  \n",
       "17                       0.133  \n",
       "9                        0.302  \n",
       "126                      0.146  \n",
       "102                      0.052  \n",
       "49                       0.006  \n",
       "4                        0.357  \n",
       "88                       0.052  \n",
       "99                       0.009  \n",
       "117                      0.056  "
      ]
     },
     "execution_count": 13,
     "metadata": {},
     "output_type": "execute_result"
    }
   ],
   "source": [
    "#3 Display the random 10 rows\n",
    "df.sample(n=10)"
   ]
  },
  {
   "cell_type": "code",
   "execution_count": 15,
   "metadata": {
    "id": "N9MA5WPBD5zt"
   },
   "outputs": [
    {
     "data": {
      "text/html": [
       "<div>\n",
       "<style scoped>\n",
       "    .dataframe tbody tr th:only-of-type {\n",
       "        vertical-align: middle;\n",
       "    }\n",
       "\n",
       "    .dataframe tbody tr th {\n",
       "        vertical-align: top;\n",
       "    }\n",
       "\n",
       "    .dataframe thead th {\n",
       "        text-align: right;\n",
       "    }\n",
       "</style>\n",
       "<table border=\"1\" class=\"dataframe\">\n",
       "  <thead>\n",
       "    <tr style=\"text-align: right;\">\n",
       "      <th></th>\n",
       "      <th>Overall rank</th>\n",
       "      <th>Country or region</th>\n",
       "      <th>Score</th>\n",
       "      <th>GDP per capita</th>\n",
       "      <th>Social support</th>\n",
       "      <th>Healthy life expectancy</th>\n",
       "      <th>Freedom to make life choices</th>\n",
       "      <th>Generosity</th>\n",
       "      <th>Perceptions of corruption</th>\n",
       "    </tr>\n",
       "  </thead>\n",
       "  <tbody>\n",
       "    <tr>\n",
       "      <th>96</th>\n",
       "      <td>97</td>\n",
       "      <td>Bhutan</td>\n",
       "      <td>5.082</td>\n",
       "      <td>0.796</td>\n",
       "      <td>1.335</td>\n",
       "      <td>0.527</td>\n",
       "      <td>0.541</td>\n",
       "      <td>0.364</td>\n",
       "      <td>0.171</td>\n",
       "    </tr>\n",
       "    <tr>\n",
       "      <th>69</th>\n",
       "      <td>70</td>\n",
       "      <td>Libya</td>\n",
       "      <td>5.566</td>\n",
       "      <td>0.985</td>\n",
       "      <td>1.350</td>\n",
       "      <td>0.553</td>\n",
       "      <td>0.496</td>\n",
       "      <td>0.116</td>\n",
       "      <td>0.148</td>\n",
       "    </tr>\n",
       "    <tr>\n",
       "      <th>82</th>\n",
       "      <td>83</td>\n",
       "      <td>Dominican Republic</td>\n",
       "      <td>5.302</td>\n",
       "      <td>0.982</td>\n",
       "      <td>1.441</td>\n",
       "      <td>0.614</td>\n",
       "      <td>0.578</td>\n",
       "      <td>0.120</td>\n",
       "      <td>0.106</td>\n",
       "    </tr>\n",
       "    <tr>\n",
       "      <th>76</th>\n",
       "      <td>77</td>\n",
       "      <td>Portugal</td>\n",
       "      <td>5.410</td>\n",
       "      <td>1.188</td>\n",
       "      <td>1.429</td>\n",
       "      <td>0.884</td>\n",
       "      <td>0.562</td>\n",
       "      <td>0.055</td>\n",
       "      <td>0.017</td>\n",
       "    </tr>\n",
       "    <tr>\n",
       "      <th>114</th>\n",
       "      <td>115</td>\n",
       "      <td>Bangladesh</td>\n",
       "      <td>4.500</td>\n",
       "      <td>0.532</td>\n",
       "      <td>0.850</td>\n",
       "      <td>0.579</td>\n",
       "      <td>0.580</td>\n",
       "      <td>0.153</td>\n",
       "      <td>0.144</td>\n",
       "    </tr>\n",
       "    <tr>\n",
       "      <th>29</th>\n",
       "      <td>30</td>\n",
       "      <td>Guatemala</td>\n",
       "      <td>6.382</td>\n",
       "      <td>0.781</td>\n",
       "      <td>1.268</td>\n",
       "      <td>0.608</td>\n",
       "      <td>0.604</td>\n",
       "      <td>0.179</td>\n",
       "      <td>0.071</td>\n",
       "    </tr>\n",
       "    <tr>\n",
       "      <th>94</th>\n",
       "      <td>95</td>\n",
       "      <td>Vietnam</td>\n",
       "      <td>5.103</td>\n",
       "      <td>0.715</td>\n",
       "      <td>1.365</td>\n",
       "      <td>0.702</td>\n",
       "      <td>0.618</td>\n",
       "      <td>0.177</td>\n",
       "      <td>0.079</td>\n",
       "    </tr>\n",
       "    <tr>\n",
       "      <th>132</th>\n",
       "      <td>133</td>\n",
       "      <td>India</td>\n",
       "      <td>4.190</td>\n",
       "      <td>0.721</td>\n",
       "      <td>0.747</td>\n",
       "      <td>0.485</td>\n",
       "      <td>0.539</td>\n",
       "      <td>0.172</td>\n",
       "      <td>0.093</td>\n",
       "    </tr>\n",
       "    <tr>\n",
       "      <th>93</th>\n",
       "      <td>94</td>\n",
       "      <td>Mongolia</td>\n",
       "      <td>5.125</td>\n",
       "      <td>0.914</td>\n",
       "      <td>1.517</td>\n",
       "      <td>0.575</td>\n",
       "      <td>0.395</td>\n",
       "      <td>0.253</td>\n",
       "      <td>0.032</td>\n",
       "    </tr>\n",
       "    <tr>\n",
       "      <th>139</th>\n",
       "      <td>140</td>\n",
       "      <td>Guinea</td>\n",
       "      <td>3.964</td>\n",
       "      <td>0.344</td>\n",
       "      <td>0.792</td>\n",
       "      <td>0.211</td>\n",
       "      <td>0.394</td>\n",
       "      <td>0.185</td>\n",
       "      <td>0.094</td>\n",
       "    </tr>\n",
       "  </tbody>\n",
       "</table>\n",
       "</div>"
      ],
      "text/plain": [
       "     Overall rank   Country or region  Score  GDP per capita  Social support  \\\n",
       "96             97              Bhutan  5.082           0.796           1.335   \n",
       "69             70               Libya  5.566           0.985           1.350   \n",
       "82             83  Dominican Republic  5.302           0.982           1.441   \n",
       "76             77            Portugal  5.410           1.188           1.429   \n",
       "114           115          Bangladesh  4.500           0.532           0.850   \n",
       "29             30           Guatemala  6.382           0.781           1.268   \n",
       "94             95             Vietnam  5.103           0.715           1.365   \n",
       "132           133               India  4.190           0.721           0.747   \n",
       "93             94            Mongolia  5.125           0.914           1.517   \n",
       "139           140              Guinea  3.964           0.344           0.792   \n",
       "\n",
       "     Healthy life expectancy  Freedom to make life choices  Generosity  \\\n",
       "96                     0.527                         0.541       0.364   \n",
       "69                     0.553                         0.496       0.116   \n",
       "82                     0.614                         0.578       0.120   \n",
       "76                     0.884                         0.562       0.055   \n",
       "114                    0.579                         0.580       0.153   \n",
       "29                     0.608                         0.604       0.179   \n",
       "94                     0.702                         0.618       0.177   \n",
       "132                    0.485                         0.539       0.172   \n",
       "93                     0.575                         0.395       0.253   \n",
       "139                    0.211                         0.394       0.185   \n",
       "\n",
       "     Perceptions of corruption  \n",
       "96                       0.171  \n",
       "69                       0.148  \n",
       "82                       0.106  \n",
       "76                       0.017  \n",
       "114                      0.144  \n",
       "29                       0.071  \n",
       "94                       0.079  \n",
       "132                      0.093  \n",
       "93                       0.032  \n",
       "139                      0.094  "
      ]
     },
     "execution_count": 15,
     "metadata": {},
     "output_type": "execute_result"
    }
   ],
   "source": [
    "#4 sample using seed\n",
    "np.random.seed(42)\n",
    "df.sample(n=10)\n"
   ]
  },
  {
   "cell_type": "code",
   "execution_count": 17,
   "metadata": {
    "id": "GjUmX2RdD7X_"
   },
   "outputs": [
    {
     "data": {
      "text/html": [
       "<div>\n",
       "<style scoped>\n",
       "    .dataframe tbody tr th:only-of-type {\n",
       "        vertical-align: middle;\n",
       "    }\n",
       "\n",
       "    .dataframe tbody tr th {\n",
       "        vertical-align: top;\n",
       "    }\n",
       "\n",
       "    .dataframe thead th {\n",
       "        text-align: right;\n",
       "    }\n",
       "</style>\n",
       "<table border=\"1\" class=\"dataframe\">\n",
       "  <thead>\n",
       "    <tr style=\"text-align: right;\">\n",
       "      <th></th>\n",
       "      <th>Overall rank</th>\n",
       "      <th>Country or region</th>\n",
       "      <th>Score</th>\n",
       "      <th>GDP per capita</th>\n",
       "      <th>Social support</th>\n",
       "      <th>Healthy life expectancy</th>\n",
       "      <th>Freedom to make life choices</th>\n",
       "      <th>Generosity</th>\n",
       "      <th>Perceptions of corruption</th>\n",
       "    </tr>\n",
       "  </thead>\n",
       "  <tbody>\n",
       "    <tr>\n",
       "      <th>0</th>\n",
       "      <td>1</td>\n",
       "      <td>Finland</td>\n",
       "      <td>7.632</td>\n",
       "      <td>1.305</td>\n",
       "      <td>1.592</td>\n",
       "      <td>0.874</td>\n",
       "      <td>0.681</td>\n",
       "      <td>0.202</td>\n",
       "      <td>0.393</td>\n",
       "    </tr>\n",
       "    <tr>\n",
       "      <th>10</th>\n",
       "      <td>11</td>\n",
       "      <td>United Kingdom</td>\n",
       "      <td>7.190</td>\n",
       "      <td>1.244</td>\n",
       "      <td>1.433</td>\n",
       "      <td>0.888</td>\n",
       "      <td>0.464</td>\n",
       "      <td>0.262</td>\n",
       "      <td>0.082</td>\n",
       "    </tr>\n",
       "    <tr>\n",
       "      <th>20</th>\n",
       "      <td>21</td>\n",
       "      <td>Czech Republic</td>\n",
       "      <td>6.711</td>\n",
       "      <td>1.233</td>\n",
       "      <td>1.489</td>\n",
       "      <td>0.854</td>\n",
       "      <td>0.543</td>\n",
       "      <td>0.064</td>\n",
       "      <td>0.034</td>\n",
       "    </tr>\n",
       "    <tr>\n",
       "      <th>30</th>\n",
       "      <td>31</td>\n",
       "      <td>Uruguay</td>\n",
       "      <td>6.379</td>\n",
       "      <td>1.093</td>\n",
       "      <td>1.459</td>\n",
       "      <td>0.771</td>\n",
       "      <td>0.625</td>\n",
       "      <td>0.130</td>\n",
       "      <td>0.155</td>\n",
       "    </tr>\n",
       "    <tr>\n",
       "      <th>40</th>\n",
       "      <td>41</td>\n",
       "      <td>Nicaragua</td>\n",
       "      <td>6.141</td>\n",
       "      <td>0.668</td>\n",
       "      <td>1.319</td>\n",
       "      <td>0.700</td>\n",
       "      <td>0.527</td>\n",
       "      <td>0.208</td>\n",
       "      <td>0.128</td>\n",
       "    </tr>\n",
       "    <tr>\n",
       "      <th>50</th>\n",
       "      <td>51</td>\n",
       "      <td>Slovenia</td>\n",
       "      <td>5.948</td>\n",
       "      <td>1.219</td>\n",
       "      <td>1.506</td>\n",
       "      <td>0.856</td>\n",
       "      <td>0.633</td>\n",
       "      <td>0.160</td>\n",
       "      <td>0.051</td>\n",
       "    </tr>\n",
       "    <tr>\n",
       "      <th>60</th>\n",
       "      <td>61</td>\n",
       "      <td>Cyprus</td>\n",
       "      <td>5.762</td>\n",
       "      <td>1.229</td>\n",
       "      <td>1.191</td>\n",
       "      <td>0.909</td>\n",
       "      <td>0.423</td>\n",
       "      <td>0.202</td>\n",
       "      <td>0.035</td>\n",
       "    </tr>\n",
       "    <tr>\n",
       "      <th>70</th>\n",
       "      <td>71</td>\n",
       "      <td>Philippines</td>\n",
       "      <td>5.524</td>\n",
       "      <td>0.775</td>\n",
       "      <td>1.312</td>\n",
       "      <td>0.513</td>\n",
       "      <td>0.643</td>\n",
       "      <td>0.120</td>\n",
       "      <td>0.105</td>\n",
       "    </tr>\n",
       "    <tr>\n",
       "      <th>80</th>\n",
       "      <td>81</td>\n",
       "      <td>Montenegro</td>\n",
       "      <td>5.347</td>\n",
       "      <td>1.017</td>\n",
       "      <td>1.279</td>\n",
       "      <td>0.729</td>\n",
       "      <td>0.259</td>\n",
       "      <td>0.111</td>\n",
       "      <td>0.081</td>\n",
       "    </tr>\n",
       "    <tr>\n",
       "      <th>90</th>\n",
       "      <td>91</td>\n",
       "      <td>Nigeria</td>\n",
       "      <td>5.155</td>\n",
       "      <td>0.689</td>\n",
       "      <td>1.172</td>\n",
       "      <td>0.048</td>\n",
       "      <td>0.462</td>\n",
       "      <td>0.201</td>\n",
       "      <td>0.032</td>\n",
       "    </tr>\n",
       "    <tr>\n",
       "      <th>100</th>\n",
       "      <td>101</td>\n",
       "      <td>Nepal</td>\n",
       "      <td>4.880</td>\n",
       "      <td>0.425</td>\n",
       "      <td>1.228</td>\n",
       "      <td>0.539</td>\n",
       "      <td>0.526</td>\n",
       "      <td>0.302</td>\n",
       "      <td>0.078</td>\n",
       "    </tr>\n",
       "    <tr>\n",
       "      <th>110</th>\n",
       "      <td>111</td>\n",
       "      <td>Tunisia</td>\n",
       "      <td>4.592</td>\n",
       "      <td>0.900</td>\n",
       "      <td>0.906</td>\n",
       "      <td>0.690</td>\n",
       "      <td>0.271</td>\n",
       "      <td>0.040</td>\n",
       "      <td>0.063</td>\n",
       "    </tr>\n",
       "    <tr>\n",
       "      <th>120</th>\n",
       "      <td>121</td>\n",
       "      <td>Burkina Faso</td>\n",
       "      <td>4.424</td>\n",
       "      <td>0.314</td>\n",
       "      <td>1.097</td>\n",
       "      <td>0.254</td>\n",
       "      <td>0.312</td>\n",
       "      <td>0.175</td>\n",
       "      <td>0.128</td>\n",
       "    </tr>\n",
       "    <tr>\n",
       "      <th>130</th>\n",
       "      <td>131</td>\n",
       "      <td>Chad</td>\n",
       "      <td>4.301</td>\n",
       "      <td>0.358</td>\n",
       "      <td>0.907</td>\n",
       "      <td>0.053</td>\n",
       "      <td>0.189</td>\n",
       "      <td>0.181</td>\n",
       "      <td>0.060</td>\n",
       "    </tr>\n",
       "    <tr>\n",
       "      <th>140</th>\n",
       "      <td>141</td>\n",
       "      <td>Lesotho</td>\n",
       "      <td>3.808</td>\n",
       "      <td>0.472</td>\n",
       "      <td>1.215</td>\n",
       "      <td>0.079</td>\n",
       "      <td>0.423</td>\n",
       "      <td>0.116</td>\n",
       "      <td>0.112</td>\n",
       "    </tr>\n",
       "    <tr>\n",
       "      <th>150</th>\n",
       "      <td>151</td>\n",
       "      <td>Rwanda</td>\n",
       "      <td>3.408</td>\n",
       "      <td>0.332</td>\n",
       "      <td>0.896</td>\n",
       "      <td>0.400</td>\n",
       "      <td>0.636</td>\n",
       "      <td>0.200</td>\n",
       "      <td>0.444</td>\n",
       "    </tr>\n",
       "  </tbody>\n",
       "</table>\n",
       "</div>"
      ],
      "text/plain": [
       "     Overall rank Country or region  Score  GDP per capita  Social support  \\\n",
       "0               1           Finland  7.632           1.305           1.592   \n",
       "10             11    United Kingdom  7.190           1.244           1.433   \n",
       "20             21    Czech Republic  6.711           1.233           1.489   \n",
       "30             31           Uruguay  6.379           1.093           1.459   \n",
       "40             41         Nicaragua  6.141           0.668           1.319   \n",
       "50             51          Slovenia  5.948           1.219           1.506   \n",
       "60             61            Cyprus  5.762           1.229           1.191   \n",
       "70             71       Philippines  5.524           0.775           1.312   \n",
       "80             81        Montenegro  5.347           1.017           1.279   \n",
       "90             91           Nigeria  5.155           0.689           1.172   \n",
       "100           101             Nepal  4.880           0.425           1.228   \n",
       "110           111           Tunisia  4.592           0.900           0.906   \n",
       "120           121      Burkina Faso  4.424           0.314           1.097   \n",
       "130           131              Chad  4.301           0.358           0.907   \n",
       "140           141           Lesotho  3.808           0.472           1.215   \n",
       "150           151            Rwanda  3.408           0.332           0.896   \n",
       "\n",
       "     Healthy life expectancy  Freedom to make life choices  Generosity  \\\n",
       "0                      0.874                         0.681       0.202   \n",
       "10                     0.888                         0.464       0.262   \n",
       "20                     0.854                         0.543       0.064   \n",
       "30                     0.771                         0.625       0.130   \n",
       "40                     0.700                         0.527       0.208   \n",
       "50                     0.856                         0.633       0.160   \n",
       "60                     0.909                         0.423       0.202   \n",
       "70                     0.513                         0.643       0.120   \n",
       "80                     0.729                         0.259       0.111   \n",
       "90                     0.048                         0.462       0.201   \n",
       "100                    0.539                         0.526       0.302   \n",
       "110                    0.690                         0.271       0.040   \n",
       "120                    0.254                         0.312       0.175   \n",
       "130                    0.053                         0.189       0.181   \n",
       "140                    0.079                         0.423       0.116   \n",
       "150                    0.400                         0.636       0.200   \n",
       "\n",
       "     Perceptions of corruption  \n",
       "0                        0.393  \n",
       "10                       0.082  \n",
       "20                       0.034  \n",
       "30                       0.155  \n",
       "40                       0.128  \n",
       "50                       0.051  \n",
       "60                       0.035  \n",
       "70                       0.105  \n",
       "80                       0.081  \n",
       "90                       0.032  \n",
       "100                      0.078  \n",
       "110                      0.063  \n",
       "120                      0.128  \n",
       "130                      0.060  \n",
       "140                      0.112  \n",
       "150                      0.444  "
      ]
     },
     "execution_count": 17,
     "metadata": {},
     "output_type": "execute_result"
    }
   ],
   "source": [
    "#5 Display every 10th row\n",
    "df.iloc[::10]"
   ]
  },
  {
   "cell_type": "code",
   "execution_count": 19,
   "metadata": {
    "id": "DXdwpo1SD9-F"
   },
   "outputs": [
    {
     "data": {
      "text/html": [
       "<div>\n",
       "<style scoped>\n",
       "    .dataframe tbody tr th:only-of-type {\n",
       "        vertical-align: middle;\n",
       "    }\n",
       "\n",
       "    .dataframe tbody tr th {\n",
       "        vertical-align: top;\n",
       "    }\n",
       "\n",
       "    .dataframe thead th {\n",
       "        text-align: right;\n",
       "    }\n",
       "</style>\n",
       "<table border=\"1\" class=\"dataframe\">\n",
       "  <thead>\n",
       "    <tr style=\"text-align: right;\">\n",
       "      <th></th>\n",
       "      <th>Overall rank</th>\n",
       "      <th>Country or region</th>\n",
       "      <th>Score</th>\n",
       "      <th>GDP per capita</th>\n",
       "      <th>Social support</th>\n",
       "      <th>Healthy life expectancy</th>\n",
       "      <th>Freedom to make life choices</th>\n",
       "      <th>Generosity</th>\n",
       "      <th>Perceptions of corruption</th>\n",
       "    </tr>\n",
       "  </thead>\n",
       "  <tbody>\n",
       "    <tr>\n",
       "      <th>count</th>\n",
       "      <td>156.000000</td>\n",
       "      <td>156</td>\n",
       "      <td>156.000000</td>\n",
       "      <td>156.000000</td>\n",
       "      <td>156.000000</td>\n",
       "      <td>156.000000</td>\n",
       "      <td>156.000000</td>\n",
       "      <td>156.000000</td>\n",
       "      <td>155.000000</td>\n",
       "    </tr>\n",
       "    <tr>\n",
       "      <th>unique</th>\n",
       "      <td>NaN</td>\n",
       "      <td>156</td>\n",
       "      <td>NaN</td>\n",
       "      <td>NaN</td>\n",
       "      <td>NaN</td>\n",
       "      <td>NaN</td>\n",
       "      <td>NaN</td>\n",
       "      <td>NaN</td>\n",
       "      <td>NaN</td>\n",
       "    </tr>\n",
       "    <tr>\n",
       "      <th>top</th>\n",
       "      <td>NaN</td>\n",
       "      <td>Finland</td>\n",
       "      <td>NaN</td>\n",
       "      <td>NaN</td>\n",
       "      <td>NaN</td>\n",
       "      <td>NaN</td>\n",
       "      <td>NaN</td>\n",
       "      <td>NaN</td>\n",
       "      <td>NaN</td>\n",
       "    </tr>\n",
       "    <tr>\n",
       "      <th>freq</th>\n",
       "      <td>NaN</td>\n",
       "      <td>1</td>\n",
       "      <td>NaN</td>\n",
       "      <td>NaN</td>\n",
       "      <td>NaN</td>\n",
       "      <td>NaN</td>\n",
       "      <td>NaN</td>\n",
       "      <td>NaN</td>\n",
       "      <td>NaN</td>\n",
       "    </tr>\n",
       "    <tr>\n",
       "      <th>mean</th>\n",
       "      <td>78.500000</td>\n",
       "      <td>NaN</td>\n",
       "      <td>5.375917</td>\n",
       "      <td>0.891449</td>\n",
       "      <td>1.213237</td>\n",
       "      <td>0.597346</td>\n",
       "      <td>0.454506</td>\n",
       "      <td>0.181006</td>\n",
       "      <td>0.112000</td>\n",
       "    </tr>\n",
       "    <tr>\n",
       "      <th>std</th>\n",
       "      <td>45.177428</td>\n",
       "      <td>NaN</td>\n",
       "      <td>1.119506</td>\n",
       "      <td>0.391921</td>\n",
       "      <td>0.302372</td>\n",
       "      <td>0.247579</td>\n",
       "      <td>0.162424</td>\n",
       "      <td>0.098471</td>\n",
       "      <td>0.096492</td>\n",
       "    </tr>\n",
       "    <tr>\n",
       "      <th>min</th>\n",
       "      <td>1.000000</td>\n",
       "      <td>NaN</td>\n",
       "      <td>2.905000</td>\n",
       "      <td>0.000000</td>\n",
       "      <td>0.000000</td>\n",
       "      <td>0.000000</td>\n",
       "      <td>0.000000</td>\n",
       "      <td>0.000000</td>\n",
       "      <td>0.000000</td>\n",
       "    </tr>\n",
       "    <tr>\n",
       "      <th>25%</th>\n",
       "      <td>39.750000</td>\n",
       "      <td>NaN</td>\n",
       "      <td>4.453750</td>\n",
       "      <td>0.616250</td>\n",
       "      <td>1.066750</td>\n",
       "      <td>0.422250</td>\n",
       "      <td>0.356000</td>\n",
       "      <td>0.109500</td>\n",
       "      <td>0.051000</td>\n",
       "    </tr>\n",
       "    <tr>\n",
       "      <th>50%</th>\n",
       "      <td>78.500000</td>\n",
       "      <td>NaN</td>\n",
       "      <td>5.378000</td>\n",
       "      <td>0.949500</td>\n",
       "      <td>1.255000</td>\n",
       "      <td>0.644000</td>\n",
       "      <td>0.487000</td>\n",
       "      <td>0.174000</td>\n",
       "      <td>0.082000</td>\n",
       "    </tr>\n",
       "    <tr>\n",
       "      <th>75%</th>\n",
       "      <td>117.250000</td>\n",
       "      <td>NaN</td>\n",
       "      <td>6.168500</td>\n",
       "      <td>1.197750</td>\n",
       "      <td>1.463000</td>\n",
       "      <td>0.777250</td>\n",
       "      <td>0.578500</td>\n",
       "      <td>0.239000</td>\n",
       "      <td>0.137000</td>\n",
       "    </tr>\n",
       "    <tr>\n",
       "      <th>max</th>\n",
       "      <td>156.000000</td>\n",
       "      <td>NaN</td>\n",
       "      <td>7.632000</td>\n",
       "      <td>2.096000</td>\n",
       "      <td>1.644000</td>\n",
       "      <td>1.030000</td>\n",
       "      <td>0.724000</td>\n",
       "      <td>0.598000</td>\n",
       "      <td>0.457000</td>\n",
       "    </tr>\n",
       "  </tbody>\n",
       "</table>\n",
       "</div>"
      ],
      "text/plain": [
       "        Overall rank Country or region       Score  GDP per capita  \\\n",
       "count     156.000000               156  156.000000      156.000000   \n",
       "unique           NaN               156         NaN             NaN   \n",
       "top              NaN           Finland         NaN             NaN   \n",
       "freq             NaN                 1         NaN             NaN   \n",
       "mean       78.500000               NaN    5.375917        0.891449   \n",
       "std        45.177428               NaN    1.119506        0.391921   \n",
       "min         1.000000               NaN    2.905000        0.000000   \n",
       "25%        39.750000               NaN    4.453750        0.616250   \n",
       "50%        78.500000               NaN    5.378000        0.949500   \n",
       "75%       117.250000               NaN    6.168500        1.197750   \n",
       "max       156.000000               NaN    7.632000        2.096000   \n",
       "\n",
       "        Social support  Healthy life expectancy  Freedom to make life choices  \\\n",
       "count       156.000000               156.000000                    156.000000   \n",
       "unique             NaN                      NaN                           NaN   \n",
       "top                NaN                      NaN                           NaN   \n",
       "freq               NaN                      NaN                           NaN   \n",
       "mean          1.213237                 0.597346                      0.454506   \n",
       "std           0.302372                 0.247579                      0.162424   \n",
       "min           0.000000                 0.000000                      0.000000   \n",
       "25%           1.066750                 0.422250                      0.356000   \n",
       "50%           1.255000                 0.644000                      0.487000   \n",
       "75%           1.463000                 0.777250                      0.578500   \n",
       "max           1.644000                 1.030000                      0.724000   \n",
       "\n",
       "        Generosity  Perceptions of corruption  \n",
       "count   156.000000                 155.000000  \n",
       "unique         NaN                        NaN  \n",
       "top            NaN                        NaN  \n",
       "freq           NaN                        NaN  \n",
       "mean      0.181006                   0.112000  \n",
       "std       0.098471                   0.096492  \n",
       "min       0.000000                   0.000000  \n",
       "25%       0.109500                   0.051000  \n",
       "50%       0.174000                   0.082000  \n",
       "75%       0.239000                   0.137000  \n",
       "max       0.598000                   0.457000  "
      ]
     },
     "execution_count": 19,
     "metadata": {},
     "output_type": "execute_result"
    }
   ],
   "source": [
    "#6 Get the summary stats of the dataset regarding each column\n",
    "df.describe(include='all')\n"
   ]
  },
  {
   "cell_type": "code",
   "execution_count": 21,
   "metadata": {
    "id": "qhE0TwZZEAM5"
   },
   "outputs": [
    {
     "data": {
      "text/plain": [
       "Overall rank                    0\n",
       "Country or region               0\n",
       "Score                           0\n",
       "GDP per capita                  0\n",
       "Social support                  0\n",
       "Healthy life expectancy         0\n",
       "Freedom to make life choices    0\n",
       "Generosity                      0\n",
       "Perceptions of corruption       1\n",
       "dtype: int64"
      ]
     },
     "execution_count": 21,
     "metadata": {},
     "output_type": "execute_result"
    }
   ],
   "source": [
    "#7 Identify and count the number of missing values in each column\n",
    "df.isnull().sum()\n"
   ]
  },
  {
   "cell_type": "markdown",
   "metadata": {
    "id": "03njHFZpEDcR"
   },
   "source": [
    "# Q2. Basic Data Statistics: **(10 Pts)**\n",
    "\n",
    "1. Calculate the mean, median, and standard deviation of the happiness Score across all countries. **(1 Pts)**\n",
    "2. Identify the top 5 happiest countries and the bottom 5 least happy countries based on happiness Score. **(1 Pts)**\n",
    "3. Find the country with the highest Healthy Life Expectancy. What is the corresponding happiness Score? **(2 Pts)**\n",
    "4. Calculate the average Corruption Perceptions for countries with a happiness Score greater than 6. **(2 Pts)**\n",
    "5. Are there any countries where Generosity is higher than Social Support? List them. **(2 Pts)**\n",
    "6. What is the range (max-min) of GDP per Capita values in the dataset? **(2 Pts)**"
   ]
  },
  {
   "cell_type": "code",
   "execution_count": 24,
   "metadata": {
    "id": "7VerqUJlIxdB"
   },
   "outputs": [
    {
     "name": "stdout",
     "output_type": "stream",
     "text": [
      "Mean of happiness Score: 5.375916666666667\n",
      "Median of happiness Score: 5.378\n",
      "Standard Deviation of happiness Score: 1.119505852731943\n"
     ]
    }
   ],
   "source": [
    "#1\n",
    "mean_score = df['Score'].mean()\n",
    "median_score = df['Score'].median()\n",
    "std_dev_score = df['Score'].std()\n",
    "print(f\"Mean of happiness Score: {mean_score}\")\n",
    "print(f\"Median of happiness Score: {median_score}\")\n",
    "print(f\"Standard Deviation of happiness Score: {std_dev_score}\")\n"
   ]
  },
  {
   "cell_type": "code",
   "execution_count": 26,
   "metadata": {
    "id": "wggNKMOnIxZR"
   },
   "outputs": [
    {
     "name": "stdout",
     "output_type": "stream",
     "text": [
      "  Country or region  Score\n",
      "0           Finland  7.632\n",
      "1            Norway  7.594\n",
      "2           Denmark  7.555\n",
      "3           Iceland  7.495\n",
      "4       Switzerland  7.487\n",
      "            Country or region  Score\n",
      "151                     Yemen  3.355\n",
      "152                  Tanzania  3.303\n",
      "153               South Sudan  3.254\n",
      "154  Central African Republic  3.083\n",
      "155                   Burundi  2.905\n"
     ]
    }
   ],
   "source": [
    "#2\n",
    "sorted_df = df.sort_values(by='Score', ascending=False)\n",
    "top_five = sorted_df.head(5)\n",
    "bot_five = sorted_df.tail(5)\n",
    "\n",
    "print(top_five[['Country or region', 'Score']])\n",
    "print(bot_five[['Country or region', 'Score']])\n"
   ]
  },
  {
   "cell_type": "code",
   "execution_count": 28,
   "metadata": {
    "id": "HEMghv00IxU1"
   },
   "outputs": [
    {
     "name": "stdout",
     "output_type": "stream",
     "text": [
      "   Country or region  Healthy life expectancy  Score\n",
      "75         Hong Kong                     1.03   5.43\n"
     ]
    }
   ],
   "source": [
    "#3\n",
    "sorted_df_by_healthy = df.sort_values(by='Healthy life expectancy', ascending=False)\n",
    "top_healthy_country = sorted_df_by_healthy[['Country or region', 'Healthy life expectancy', 'Score']].head(1)\n",
    "print(top_healthy_country)\n"
   ]
  },
  {
   "cell_type": "code",
   "execution_count": 34,
   "metadata": {
    "id": "7V9fOGmyIxPx"
   },
   "outputs": [
    {
     "name": "stdout",
     "output_type": "stream",
     "text": [
      "average Corruption Perceptions 0.1782888888888889\n"
     ]
    }
   ],
   "source": [
    "#4 Calculate the average Corruption Perceptions for countries with a happiness Score greater than 6. (2 Pts)\n",
    "greater_six_df = df[df['Score'] > 6]\n",
    "acp = greater_six_df['Perceptions of corruption'].mean()\n",
    "print(\"Average Corruption Perceptions\", acp)\n"
   ]
  },
  {
   "cell_type": "code",
   "execution_count": 40,
   "metadata": {
    "id": "Xu8KeZpuIxKX"
   },
   "outputs": [
    {
     "name": "stdout",
     "output_type": "stream",
     "text": [
      "            Country or region  Generosity  Social support\n",
      "154  Central African Republic       0.218             0.0\n"
     ]
    }
   ],
   "source": [
    "#5 Are there any countries where Generosity is higher than Social Support? List them. (2 Pts)\n",
    "generosity_higher = df[df['Generosity'] > df['Social support']]\n",
    "print(generosity_higher[['Country or region', 'Generosity', 'Social support']])"
   ]
  },
  {
   "cell_type": "code",
   "execution_count": 42,
   "metadata": {
    "id": "TwGHH-K9IxDy"
   },
   "outputs": [
    {
     "name": "stdout",
     "output_type": "stream",
     "text": [
      "Range of GDP per Capita:  2.096\n"
     ]
    }
   ],
   "source": [
    "#6 What is the range (max-min) of GDP per Capita values in the dataset? (2 Pts)\n",
    "range = df['GDP per capita'].max() - df['GDP per capita'].min()\n",
    "print(\"Range of GDP per Capita: \",range)\n"
   ]
  },
  {
   "cell_type": "markdown",
   "metadata": {
    "id": "s6LGyNg0Fqns"
   },
   "source": [
    "# Q3. Data Filtering **(20 Pts)**\n",
    "\n",
    "1. How many countries have a Happiness Score greater than 7.5? List their names.**(2 Pts)**\n",
    "2. List all countries where the Corruption Perception score is below 0.2. **(2 Pts)**\n",
    "3. Filter and list the top 5 countries by Generosity. What is their average Happiness Score? **(2 Pts)**\n",
    "4. Find countries where GDP per Capita is less than 0.5 but the Happiness Score is above 4. List the countries. **(2 Pts)**\n",
    "5. Filter countries where Social Support is higher than Freedom to Make Life **(2 Pts)**\n",
    "6. Find countries in the top 10% of Healthy Life Expectancy and list their names. **(2 Pts)**\n",
    "7. Filter and list countries where Generosity is less than Social Support. What is the average Happiness Score of these countries? **(2 Pts)**\n",
    "8.  Find all countries with a Happiness Score below the median happiness score. How many are there, and what are the common characteristics of these countries? **(3 Pts)**\n",
    "9. Filter countries where both Freedom to Make Life Choices and Healthy Life Expectancy are above the global median. How many such countries are there? **(3 Pts)**"
   ]
  },
  {
   "cell_type": "code",
   "execution_count": 44,
   "metadata": {
    "id": "H2ZCnvlKIzvU"
   },
   "outputs": [
    {
     "name": "stdout",
     "output_type": "stream",
     "text": [
      "0    Finland\n",
      "1     Norway\n",
      "2    Denmark\n",
      "Name: Country or region, dtype: object\n",
      "Number of countries with a happiness score greater than 7.5: 3\n"
     ]
    }
   ],
   "source": [
    "#1. How many countries have a Happiness Score greater than 7.5? List their names.**(2 Pts)**\n",
    "\n",
    "greater_than_7_5 = df[df['Score'] > 7.5]\n",
    "print(greater_than_7_5['Country or region'])\n",
    "print(f\"Number of countries with a happiness score greater than 7.5: {len(greater_than_7_5)}\")\n"
   ]
  },
  {
   "cell_type": "code",
   "execution_count": 48,
   "metadata": {
    "id": "pedm2qN7Izpj"
   },
   "outputs": [
    {
     "name": "stdout",
     "output_type": "stream",
     "text": [
      "3                       Iceland\n",
      "10               United Kingdom\n",
      "12                   Costa Rica\n",
      "17                United States\n",
      "20               Czech Republic\n",
      "                 ...           \n",
      "151                       Yemen\n",
      "152                    Tanzania\n",
      "153                 South Sudan\n",
      "154    Central African Republic\n",
      "155                     Burundi\n",
      "Name: Country or region, Length: 134, dtype: object\n",
      "Number of countries with corruption perception score below 0.2: 134\n"
     ]
    }
   ],
   "source": [
    "#2. List all countries where the Corruption Perception score is below 0.2. **(2 Pts)**\n",
    "\n",
    "less_than_0_2 = df[df['Perceptions of corruption'] < 0.2]\n",
    "print(less_than_0_2['Country or region'])\n",
    "print(f\"Number of countries with corruption perception score below 0.2: {len(less_than_0_2)}\")\n"
   ]
  },
  {
   "cell_type": "code",
   "execution_count": 234,
   "metadata": {
    "id": "RDR7XZU0IzES"
   },
   "outputs": [
    {
     "name": "stdout",
     "output_type": "stream",
     "text": [
      "4.6144\n"
     ]
    }
   ],
   "source": [
    "#3. Filter and list the top 5 countries by Generosity. What is their average Happiness Score? **(2 Pts)**\n",
    "ordered_by_generosity = df.sort_values(by='Generosity', ascending=False)\n",
    "top_five_generosity = ordered_by_generosity.head()\n",
    "average_H_score = top_five_generosity['Score'].mean()\n",
    "print(average_H_score)"
   ]
  },
  {
   "cell_type": "code",
   "execution_count": 235,
   "metadata": {
    "id": "Q-v1h509IzBw"
   },
   "outputs": [
    {
     "name": "stdout",
     "output_type": "stream",
     "text": [
      "87           Tajikistan\n",
      "97              Somalia\n",
      "100               Nepal\n",
      "108             Senegal\n",
      "112        Sierra Leone\n",
      "117                Mali\n",
      "120        Burkina Faso\n",
      "122          Mozambique\n",
      "123               Kenya\n",
      "126            Ethiopia\n",
      "130                Chad\n",
      "131    Congo (Kinshasa)\n",
      "133               Niger\n",
      "134              Uganda\n",
      "135               Benin\n",
      "Name: Country or region, dtype: object\n"
     ]
    }
   ],
   "source": [
    "#4. Find countries where GDP per Capita is less than 0.5 but the Happiness Score is above 4. List the countries. **(2 Pts)**\n",
    "countries = df[(df['GDP per capita']<0.5) & (df['Score']>4)]\n",
    "print(countries['Country or region'])"
   ]
  },
  {
   "cell_type": "code",
   "execution_count": 236,
   "metadata": {
    "id": "fsxfO5cvIy_L"
   },
   "outputs": [
    {
     "name": "stdout",
     "output_type": "stream",
     "text": [
      "    Country or region  Social support  Freedom to make life choices\n",
      "0             Finland           1.592                         0.681\n",
      "1              Norway           1.582                         0.686\n",
      "2             Denmark           1.590                         0.683\n",
      "3             Iceland           1.644                         0.677\n",
      "4         Switzerland           1.549                         0.660\n",
      "..                ...             ...                           ...\n",
      "150            Rwanda           0.896                         0.636\n",
      "151             Yemen           1.073                         0.244\n",
      "152          Tanzania           0.991                         0.481\n",
      "153       South Sudan           0.608                         0.112\n",
      "155           Burundi           0.627                         0.065\n",
      "\n",
      "[154 rows x 3 columns]\n"
     ]
    }
   ],
   "source": [
    "#5. Filter countries where Social Support is higher than Freedom to Make Life **(2 Pts)**\n",
    "\n",
    "countries = df[df['Social support'] > df['Freedom to make life choices']]\n",
    "\n",
    "\n",
    "print(countries[['Country or region', 'Social support', 'Freedom to make life choices']])\n"
   ]
  },
  {
   "cell_type": "code",
   "execution_count": 237,
   "metadata": {
    "id": "p-HrMopaIy8j"
   },
   "outputs": [
    {
     "name": "stdout",
     "output_type": "stream",
     "text": [
      "3             Iceland\n",
      "4         Switzerland\n",
      "6              Canada\n",
      "8              Sweden\n",
      "9           Australia\n",
      "15            Belgium\n",
      "16         Luxembourg\n",
      "22             France\n",
      "33          Singapore\n",
      "35              Spain\n",
      "46              Italy\n",
      "53              Japan\n",
      "56        South Korea\n",
      "57    Northern Cyprus\n",
      "60             Cyprus\n",
      "75          Hong Kong\n",
      "Name: Country or region, dtype: object\n"
     ]
    }
   ],
   "source": [
    "#6. Find countries in the top 10% of Healthy Life Expectancy and list their names. **(2 Pts)**\n",
    "threshold = df['Healthy life expectancy'].quantile(0.90)\n",
    "top_10 = df[df['Healthy life expectancy'] >= threshold]\n",
    "print(top_10['Country or region'])"
   ]
  },
  {
   "cell_type": "code",
   "execution_count": 54,
   "metadata": {
    "id": "C3TofhTGIy53"
   },
   "outputs": [
    {
     "name": "stdout",
     "output_type": "stream",
     "text": [
      "Average happiness score of countries where Generosity is less than Social Support:  5.390709677419355\n"
     ]
    }
   ],
   "source": [
    "#7. Filter and list countries where Generosity is less than Social Support. What is the average Happiness Score of these countries? **(2 Pts)**\n",
    "countries1 = df[(df['Social support'] > df['Generosity'])]\n",
    "print(\"Average happiness score of countries where Generosity is less than Social Support: \", countries1['Score'].mean())\n"
   ]
  },
  {
   "cell_type": "code",
   "execution_count": 56,
   "metadata": {
    "id": "aErDzpSVIy3Q"
   },
   "outputs": [
    {
     "name": "stdout",
     "output_type": "stream",
     "text": [
      "Number of countries with happiness score below the median: 78\n",
      "78                       Greece\n",
      "79                      Lebanon\n",
      "80                   Montenegro\n",
      "81                      Croatia\n",
      "82           Dominican Republic\n",
      "                 ...           \n",
      "151                       Yemen\n",
      "152                    Tanzania\n",
      "153                 South Sudan\n",
      "154    Central African Republic\n",
      "155                     Burundi\n",
      "Name: Country or region, Length: 78, dtype: object\n"
     ]
    }
   ],
   "source": [
    "#8.  Find all countries with a Happiness Score below the median happiness score. How many are there, and what are the common characteristics of these countries? **(3 Pts)**\n",
    "med_value = df['Score'].median()\n",
    "below_med = df[df['Score'] < med_value]\n",
    "print(f\"Number of countries with happiness score below the median: {len(below_med)}\")\n",
    "print(below_med['Country or region'])\n"
   ]
  },
  {
   "cell_type": "code",
   "execution_count": 58,
   "metadata": {
    "id": "1veiAlVaIy05"
   },
   "outputs": [
    {
     "name": "stdout",
     "output_type": "stream",
     "text": [
      "Number of countries where both Freedom and Healthy Life Expectancy are above the median: 47\n",
      "0              Finland\n",
      "1               Norway\n",
      "2              Denmark\n",
      "3              Iceland\n",
      "4          Switzerland\n",
      "5          Netherlands\n",
      "6               Canada\n",
      "7          New Zealand\n",
      "8               Sweden\n",
      "9            Australia\n",
      "11             Austria\n",
      "12          Costa Rica\n",
      "13             Ireland\n",
      "14             Germany\n",
      "15             Belgium\n",
      "16          Luxembourg\n",
      "17       United States\n",
      "18              Israel\n",
      "20      Czech Republic\n",
      "21               Malta\n",
      "22              France\n",
      "26              Panama\n",
      "27              Brazil\n",
      "28           Argentina\n",
      "30             Uruguay\n",
      "31               Qatar\n",
      "33           Singapore\n",
      "40           Nicaragua\n",
      "41              Poland\n",
      "42             Bahrain\n",
      "44              Kuwait\n",
      "45            Thailand\n",
      "47             Ecuador\n",
      "50            Slovenia\n",
      "51             Romania\n",
      "53               Japan\n",
      "54           Mauritius\n",
      "55             Jamaica\n",
      "57     Northern Cyprus\n",
      "62             Estonia\n",
      "64                Peru\n",
      "75           Hong Kong\n",
      "76            Portugal\n",
      "79             Lebanon\n",
      "85               China\n",
      "94             Vietnam\n",
      "115          Sri Lanka\n",
      "Name: Country or region, dtype: object\n"
     ]
    }
   ],
   "source": [
    "#9. Filter countries where both Freedom to Make Life Choices and Healthy Life Expectancy are above the global median. How many such countries are there? **(3 Pts)**\n",
    "median_healthy_life = df['Healthy life expectancy'].median()\n",
    "median_freedom = df['Freedom to make life choices'].median()\n",
    "\n",
    "\n",
    "countries = df[(df['Healthy life expectancy'] > median_healthy_life) & (df['Freedom to make life choices'] > median_freedom)]\n",
    "\n",
    "print(f\"Number of countries where both Freedom and Healthy Life Expectancy are above the median: {len(countries)}\")\n",
    "print(countries['Country or region'])"
   ]
  },
  {
   "cell_type": "markdown",
   "metadata": {
    "id": "BPt91yizJhpJ"
   },
   "source": [
    "# **PART- 2**\n",
    "\n",
    "**Set of Questions on the passenger_demographics.csv and passenger_survival.csv** **(25 Pts)**\n",
    "\n",
    "**Dataset Path: \"Data/passenger_demographics.csv\" and \"Data/passenger_survival.csv\"**"
   ]
  },
  {
   "cell_type": "markdown",
   "metadata": {
    "id": "OX2D4qaNT3na"
   },
   "source": [
    "# Q1. Data Merging and Consistency Checking\n",
    "\n",
    "\n",
    "1. Merge the datasets on PassengerId into a single DataFrame. How many rows are there in the merged dataset? **(3 Pts)**\n",
    "2. Perform a consistency check for duplicated rows. After merging, check for any duplicated rows in the merged dataset and provide a summary of your findings. Provide the details (average, mean, etc.) of each feature in the merged DataFrame. **(3 Pts)**\n",
    "3. Determine the survival rate for each passenger class and gender. Analyze how the survival rate varies among different classes (Pclass) and genders. **(3 Pts)**\n",
    "4. Analyze the effect of age on survival probability. Determine whether age significantly affects the probability of survival. Use statistical techniques to explore this relationship.(use binning) **(4 Pts)**\n",
    "5. Investigate the impact of family size on survival. Determine if family size (based on the number of siblings/spouses and parents/children aboard) has any correlation with survival. **(4 Pts)**\n",
    "6. Determine the most common embarkation point among survivors. Find out which embarkation point (C, Q, or S) had the highest survival rate. **(4 Pts)**\n",
    "7. Evaluate the correlation between Fare and Survival. Determine if there is a correlation between the fare paid and the survival status of the passengers. **(4 Pts)**"
   ]
  },
  {
   "cell_type": "code",
   "execution_count": 62,
   "metadata": {
    "id": "Lhe7YtGBYtjD"
   },
   "outputs": [
    {
     "name": "stdout",
     "output_type": "stream",
     "text": [
      "891\n"
     ]
    }
   ],
   "source": [
    "#1. Merge the datasets on PassengerId into a single DataFrame. How many rows are there in the merged dataset? **(3 Pts)**\n",
    "df1 = pd.read_csv(\"Data/passenger_demographics.csv\")\n",
    "df2 = pd.read_csv(\"Data/passenger_survival.csv\")\n",
    "merged_df = pd.merge(df1,df2,on='PassengerId',how='inner')\n",
    "print(len(merged_df))"
   ]
  },
  {
   "cell_type": "code",
   "execution_count": 64,
   "metadata": {
    "id": "WsIKBmxnYuZc"
   },
   "outputs": [
    {
     "name": "stdout",
     "output_type": "stream",
     "text": [
      "Number of duplicated rows: 0\n",
      "       PassengerId      Pclass         Age       SibSp       Parch  \\\n",
      "count   891.000000  891.000000  714.000000  891.000000  891.000000   \n",
      "mean    446.000000    2.308642   29.699118    0.523008    0.381594   \n",
      "std     257.353842    0.836071   14.526497    1.102743    0.806057   \n",
      "min       1.000000    1.000000    0.420000    0.000000    0.000000   \n",
      "25%     223.500000    2.000000   20.125000    0.000000    0.000000   \n",
      "50%     446.000000    3.000000   28.000000    0.000000    0.000000   \n",
      "75%     668.500000    3.000000   38.000000    1.000000    0.000000   \n",
      "max     891.000000    3.000000   80.000000    8.000000    6.000000   \n",
      "\n",
      "         Survived        Fare  \n",
      "count  891.000000  891.000000  \n",
      "mean     0.383838   32.204208  \n",
      "std      0.486592   49.693429  \n",
      "min      0.000000    0.000000  \n",
      "25%      0.000000    7.910400  \n",
      "50%      0.000000   14.454200  \n",
      "75%      1.000000   31.000000  \n",
      "max      1.000000  512.329200  \n",
      "Missing values in each column:\n",
      "PassengerId      0\n",
      "Pclass           0\n",
      "Sex              0\n",
      "Age            177\n",
      "SibSp            0\n",
      "Parch            0\n",
      "Survived         0\n",
      "Fare             0\n",
      "Embarked         2\n",
      "dtype: int64\n"
     ]
    }
   ],
   "source": [
    "#2. Perform a consistency check for duplicated rows. After merging, check for any duplicated rows in the merged dataset and provide a summary of your findings. Provide the details (average, mean, etc.) of each feature in the merged DataFrame. **(3 Pts)**\n",
    "duplicated_rows = merged_df[merged_df.duplicated()]\n",
    "print(f\"Number of duplicated rows: {len(duplicated_rows)}\")\n",
    "\n",
    "\n",
    "summary_statistics = merged_df.describe()\n",
    "print(summary_statistics)\n",
    "\n",
    "\n",
    "missing_values = merged_df.isnull().sum()\n",
    "print(\"Missing values in each column:\")\n",
    "print(missing_values)"
   ]
  },
  {
   "cell_type": "code",
   "execution_count": 245,
   "metadata": {
    "id": "vHLFSeDKYuVG"
   },
   "outputs": [
    {
     "name": "stdout",
     "output_type": "stream",
     "text": [
      "Pclass  Sex   \n",
      "1       female    0.968085\n",
      "        male      0.368852\n",
      "2       female    0.921053\n",
      "        male      0.157407\n",
      "3       female    0.500000\n",
      "        male      0.135447\n",
      "Name: Survived, dtype: float64\n"
     ]
    }
   ],
   "source": [
    "#3. Determine the survival rate for each passenger class and gender. Analyze how the survival rate varies among different classes (Pclass) and genders. **(3 Pts)**\n",
    "survival_rate = merged_df.groupby(['Pclass','Sex'])['Survived'].mean()\n",
    "print(survival_rate)"
   ]
  },
  {
   "cell_type": "code",
   "execution_count": 246,
   "metadata": {
    "id": "3nrS1BgFYuQJ"
   },
   "outputs": [
    {
     "name": "stdout",
     "output_type": "stream",
     "text": [
      "Age Group\n",
      "Child       0.573529\n",
      "Teenager    0.488889\n",
      "Young       0.350554\n",
      "Adult       0.417969\n",
      "Old         0.356164\n",
      "Name: Survived, dtype: float64\n"
     ]
    }
   ],
   "source": [
    "bins = [0, 12, 18, 30, 50, 80]  \n",
    "labels = ['Child', 'Teenager', 'Young', 'Adult', 'Old']  \n",
    "merged_df['Age Group'] = pd.cut(merged_df['Age'], bins=bins, labels=labels, right=False)\n",
    "\n",
    "survival_rate_by_age = merged_df.groupby('Age Group', observed=True)['Survived'].mean()\n",
    "\n",
    "print(survival_rate_by_age)"
   ]
  },
  {
   "cell_type": "code",
   "execution_count": 247,
   "metadata": {
    "id": "xlco8hajYuIX"
   },
   "outputs": [
    {
     "name": "stdout",
     "output_type": "stream",
     "text": [
      "Correlation:  0.01663898928274523\n"
     ]
    }
   ],
   "source": [
    "#5. Investigate the impact of family size on survival. Determine if family size (based on the number of siblings/spouses and parents/children aboard) has any correlation with survival. **(4 Pts)**\n",
    "\n",
    "merged_df['Family Size'] = merged_df['SibSp'] + merged_df['Parch'] + 1\n",
    "\n",
    "survival_rate_by_family_size = merged_df.groupby('Family Size')['Survived'].mean()\n",
    "\n",
    "correlation = merged_df[['Family Size', 'Survived']].corr().iloc[0, 1]\n",
    "\n",
    "print(\"Correlation: \" , correlation)"
   ]
  },
  {
   "cell_type": "code",
   "execution_count": 248,
   "metadata": {
    "id": "RdPyq5mFYuCT"
   },
   "outputs": [
    {
     "name": "stdout",
     "output_type": "stream",
     "text": [
      "Most common embarked survivors:  S\n",
      "Survival rate by embarked:  Embarked\n",
      "C    0.553571\n",
      "Q    0.389610\n",
      "S    0.336957\n",
      "Name: Survived, dtype: float64\n"
     ]
    }
   ],
   "source": [
    "#6. Determine the most common embarkation point among survivors. Find out which embarkation point (C, Q, or S) had the highest survival rate. **(4 Pts)**\n",
    "most_common_embarked_survivors = merged_df[merged_df['Survived'] == 1]['Embarked'].mode()[0]\n",
    "\n",
    "survival_rate_by_embarked = merged_df.groupby('Embarked')['Survived'].mean()\n",
    "\n",
    "print(\"Most common embarked survivors: \", most_common_embarked_survivors)\n",
    "\n",
    "print(\"Survival rate by embarked: \", survival_rate_by_embarked)"
   ]
  },
  {
   "cell_type": "code",
   "execution_count": 249,
   "metadata": {
    "id": "vH_UEV-QYt5x"
   },
   "outputs": [
    {
     "name": "stdout",
     "output_type": "stream",
     "text": [
      "Correlation:  0.25730652238496265\n"
     ]
    }
   ],
   "source": [
    "correlation = merged_df[['Fare', 'Survived']].corr().iloc[0, 1]\n",
    "print(\"Correlation: \", correlation)"
   ]
  },
  {
   "cell_type": "markdown",
   "metadata": {
    "id": "_3suDJgQZm01"
   },
   "source": [
    "# **PART- 3**\n",
    "\n",
    "**Set of Questions on SQL - using sqlite3 library!**\n",
    "\n",
    "**Dataset Path: \"Data/supermarket_sales.csv\"**"
   ]
  },
  {
   "cell_type": "markdown",
   "metadata": {
    "id": "DOZouTkQh-aa"
   },
   "source": [
    "\n",
    "The Supermarket Sales Dataset is a comprehensive dataset designed to provide insights into the sales performance of a supermarket.\n",
    "\n",
    "We want to store this data in a relational database, with the following table schemas:"
   ]
  },
  {
   "cell_type": "markdown",
   "metadata": {
    "id": "8g3KN0RagrO4"
   },
   "source": [
    "# Tables\n",
    "\n",
    "## 1. Branches Table\n",
    "\n",
    "| Column   | Type  | Key      | Description                              |\n",
    "|----------|-------|----------|------------------------------------------|\n",
    "| BranchID | INTEGER  | PRIMARY  | Unique identifier for each branch        |\n",
    "| Branch | TEXT  |            |    Name of the supermarket branch        |\n",
    "| City     | TEXT  |          | City where the branch is located         |\n",
    "\n",
    "\n",
    "\n",
    "## 2. Products Table\n",
    "\n",
    "| Column      | Type  | Key      | Description                               |\n",
    "|-------------|-------|----------|-------------------------------------------|\n",
    "| ProductID | INTEGER  | PRIMARY  | Unique identifier for each product line   |\n",
    "| ProductLine | TEXT  |          | Category of the product |\n",
    "\n",
    "\n",
    "\n",
    "## 3. Orders Table\n",
    "\n",
    "| Column        | Type  | Key      | Description                                    |\n",
    "|---------------|-------|----------|------------------------------------------------|\n",
    "| OrderID       | TEXT  | PRIMARY  | Unique identifier for each order               |\n",
    "| BranchID      | INTEGER  |   FK       | Identifier for the branch of the order    |\n",
    "| ProductID   | INTEGER  |      FK    | Identifier linking to Products table ordered                      |\n",
    "| Quantity      | INTEGER |        | Number of units ordered                        |\n",
    "| UnitPrice   | REAL  |          | Price per unit of the product             |Total         | REAL  |          | Total sales value for the order               |\n",
    "| OrderDate     | TEXT  |          | Date when the order was placed                |\n",
    "| PaymentMethod | TEXT  |          | Method used for payment                       |\n",
    "| CustomerType  | TEXT  |          | Type of customer (e.g., Member, Normal)     |\n",
    "| Gender        | TEXT  |          | Gender of the customer                        |\n",
    "\n"
   ]
  },
  {
   "cell_type": "markdown",
   "metadata": {
    "id": "nWvMCCPLi2W0"
   },
   "source": [
    "Summary of Table Structures\n",
    "\n",
    "* Branches Table contains information about different supermarket branches.\n",
    "\n",
    "* Products Table details the various products available for purchase.\n",
    "* Orders Table records the transactions made, linking products and branches to specific purchases.\n"
   ]
  },
  {
   "cell_type": "markdown",
   "metadata": {
    "id": "jqFWg0pzhL9L"
   },
   "source": [
    "# **Questions** **(35 Pts)**\n",
    "\n",
    "1. Read the csv file and create this DB **(10 Pts)**\n",
    "2. Write a query to find the top 3 product lines with the highest total quantity sold, using a LIMIT statement. **(4 Pts)**\n",
    "3. Find the total revenue generated for each branch by product line **(4 Pts)**\n",
    "4. Find the total sales for each branch **(3 Pts)**\n",
    "5. Determine the number of orders placed by each gender **(3 Pts)**\n",
    "6. List the product lines sold in each branch and the number of orders **(4 Pts)**\n",
    "7. Find the highest quantity sold for a single order and the corresponding product line **(4 Pts)**\n",
    "8. Check for duplicated invoices **(3 Pts)**\n"
   ]
  },
  {
   "cell_type": "code",
   "execution_count": 66,
   "metadata": {
    "id": "4Z4tAiQHlqnF"
   },
   "outputs": [
    {
     "data": {
      "text/plain": [
       "1005"
      ]
     },
     "execution_count": 66,
     "metadata": {},
     "output_type": "execute_result"
    }
   ],
   "source": [
    "#1 Read the csv file and create this DB **(10 Pts)**\n",
    "import pandas as pd\n",
    "import sqlite3\n",
    "\n",
    "df = pd.read_csv('Data/supermarket_sales.csv')\n",
    "\n",
    "conn = sqlite3.connect('mydatabase.db')\n",
    "cursor = conn.cursor()\n",
    "\n",
    "df.to_sql('my_table', conn, if_exists='replace', index=False)\n",
    "\n",
    "\n"
   ]
  },
  {
   "cell_type": "code",
   "execution_count": 68,
   "metadata": {
    "id": "5V2Ubeyclqjc"
   },
   "outputs": [
    {
     "name": "stdout",
     "output_type": "stream",
     "text": [
      "('Electronic accessories', 971)\n",
      "('Food and beverages', 953)\n",
      "('Home and lifestyle', 922)\n"
     ]
    }
   ],
   "source": [
    "#2 Write a query to find the top 3 product lines with the highest total quantity sold, using a LIMIT statement. **(4 Pts)**\n",
    "import sqlite3\n",
    "\n",
    "conn = sqlite3.connect('mydatabase.db')\n",
    "cursor = conn.cursor()\n",
    "\n",
    "cursor.execute(\"\"\"\n",
    "    SELECT \"Product line\", SUM(Quantity) as Total_Quantity\n",
    "    FROM my_table\n",
    "    GROUP BY \"Product line\"\n",
    "    ORDER BY Total_Quantity DESC\n",
    "    LIMIT 3\n",
    "\"\"\")\n",
    "\n",
    "rows = cursor.fetchall()\n",
    "\n",
    "\n",
    "for row in rows:\n",
    "    print(row)\n",
    "\n",
    "conn.close()\n",
    "\n"
   ]
  },
  {
   "cell_type": "code",
   "execution_count": 70,
   "metadata": {
    "id": "qUjEH_LvlqfN"
   },
   "outputs": [
    {
     "name": "stdout",
     "output_type": "stream",
     "text": [
      "('A', 'Electronic accessories', 17444.869999999995)\n",
      "('A', 'Fashion accessories', 16173.15)\n",
      "('A', 'Food and beverages', 16377.649999999998)\n",
      "('A', 'Health and beauty', 11997.859999999999)\n",
      "('A', 'Home and lifestyle', 21415.530000000002)\n",
      "('A', 'Sports and travel', 18450.190000000002)\n",
      "('B', 'Electronic accessories', 16239.470000000001)\n",
      "('B', 'Fashion accessories', 15631.729999999998)\n",
      "('B', 'Food and beverages', 14490.369999999999)\n",
      "('B', 'Health and beauty', 19029.199999999997)\n",
      "('B', 'Home and lifestyle', 17687.290000000005)\n",
      "('B', 'Sports and travel', 19036.38)\n",
      "('C', 'Electronic accessories', 18065.690000000006)\n",
      "('C', 'Fashion accessories', 20533.399999999998)\n",
      "('C', 'Food and beverages', 22635.1)\n",
      "('C', 'Health and beauty', 15864.47)\n",
      "('C', 'Home and lifestyle', 13233.86)\n",
      "('C', 'Sports and travel', 15011.360000000002)\n"
     ]
    }
   ],
   "source": [
    "#3 Find the total revenue generated for each branch by product line **(4 Pts)**\n",
    "\n",
    "conn = sqlite3.connect('mydatabase.db')\n",
    "cursor = conn.cursor()\n",
    "cursor.execute(\"\"\"\n",
    "    SELECT Branch, \"Product line\", SUM(Quantity * \"Unit price\") as Total_Revenue\n",
    "    FROM my_table\n",
    "    GROUP BY Branch, \"Product line\"\n",
    "\"\"\")\n",
    "rows = cursor.fetchall()\n",
    "\n",
    "\n",
    "for row in rows:\n",
    "    print(row)\n",
    "\n",
    "conn.close()\n",
    "\n"
   ]
  },
  {
   "cell_type": "code",
   "execution_count": 72,
   "metadata": {
    "id": "aZAzTF7Hlqbi"
   },
   "outputs": [
    {
     "name": "stdout",
     "output_type": "stream",
     "text": [
      "('A', 101859.25000000007)\n",
      "('B', 102114.43999999993)\n",
      "('C', 105343.88)\n"
     ]
    }
   ],
   "source": [
    "#3 Find the total revenue generated for each branch by product line **(4 Pts)**\n",
    "\n",
    "conn = sqlite3.connect('mydatabase.db')\n",
    "cursor = conn.cursor()\n",
    "cursor.execute(\"\"\"\n",
    "    SELECT Branch, SUM(Quantity * \"Unit price\") as Total_Revenue\n",
    "    FROM my_table\n",
    "    GROUP BY Branch\n",
    "\"\"\")\n",
    "rows = cursor.fetchall()\n",
    "\n",
    "\n",
    "for row in rows:\n",
    "    print(row)\n",
    "\n",
    "conn.close()\n",
    "\n"
   ]
  },
  {
   "cell_type": "code",
   "execution_count": 74,
   "metadata": {
    "id": "FVBfDGVolqXG"
   },
   "outputs": [
    {
     "name": "stdout",
     "output_type": "stream",
     "text": [
      "('Female', 501)\n",
      "('Male', 499)\n"
     ]
    }
   ],
   "source": [
    "#5 Determine the number of orders placed by each gender **(3 Pts)**\n",
    "\n",
    "conn = sqlite3.connect('mydatabase.db')\n",
    "cursor = conn.cursor()\n",
    "cursor.execute(\"\"\"\n",
    "    SELECT Gender, COUNT(DISTINCT \"Invoice ID\") as Total_Orders\n",
    "    FROM my_table\n",
    "    GROUP BY Gender\n",
    "\"\"\")\n",
    "rows = cursor.fetchall()\n",
    "\n",
    "\n",
    "for row in rows:\n",
    "    print(row)\n",
    "\n",
    "conn.close()\n",
    "\n"
   ]
  },
  {
   "cell_type": "code",
   "execution_count": 76,
   "metadata": {
    "id": "NqeB7IRalqRa"
   },
   "outputs": [
    {
     "name": "stdout",
     "output_type": "stream",
     "text": [
      "('A', 'Electronic accessories', 60)\n",
      "('A', 'Fashion accessories', 51)\n",
      "('A', 'Food and beverages', 58)\n",
      "('A', 'Health and beauty', 47)\n",
      "('A', 'Home and lifestyle', 65)\n",
      "('A', 'Sports and travel', 59)\n",
      "('B', 'Electronic accessories', 55)\n",
      "('B', 'Fashion accessories', 62)\n",
      "('B', 'Food and beverages', 50)\n",
      "('B', 'Health and beauty', 53)\n",
      "('B', 'Home and lifestyle', 50)\n",
      "('B', 'Sports and travel', 62)\n",
      "('C', 'Electronic accessories', 55)\n",
      "('C', 'Fashion accessories', 65)\n",
      "('C', 'Food and beverages', 66)\n",
      "('C', 'Health and beauty', 52)\n",
      "('C', 'Home and lifestyle', 45)\n",
      "('C', 'Sports and travel', 45)\n"
     ]
    }
   ],
   "source": [
    "#6 List the product lines sold in each branch and the number of orders **(4 Pts)**\n",
    "\n",
    "\n",
    "conn = sqlite3.connect('mydatabase.db')\n",
    "cursor = conn.cursor()\n",
    "cursor.execute(\"\"\"\n",
    "    SELECT Branch, \"Product line\", COUNT(DISTINCT \"Invoice ID\") as Total_Orders\n",
    "    FROM my_table\n",
    "    GROUP BY Branch, \"Product line\"\n",
    "\"\"\")\n",
    "rows = cursor.fetchall()\n",
    "\n",
    "\n",
    "for row in rows:\n",
    "    print(row)\n",
    "\n",
    "conn.close()"
   ]
  },
  {
   "cell_type": "code",
   "execution_count": 80,
   "metadata": {
    "id": "ECIox9ZylqKY"
   },
   "outputs": [
    {
     "name": "stdout",
     "output_type": "stream",
     "text": [
      "('315-22-5665', 'Home and lifestyle', 10)\n"
     ]
    }
   ],
   "source": [
    "#7 Find the highest quantity sold for a single order and the corresponding product line **(4 Pts)**\n",
    "\n",
    "\n",
    "\n",
    "conn = sqlite3.connect('mydatabase.db')\n",
    "cursor = conn.cursor()\n",
    "cursor.execute(\"\"\"\n",
    "    SELECT \"Invoice ID\", \"Product line\", Quantity\n",
    "    FROM my_table\n",
    "    ORDER BY Quantity DESC\n",
    "    LIMIT 1;\n",
    "\n",
    "\"\"\")\n",
    "\n",
    "rows = cursor.fetchall()\n",
    "\n",
    "\n",
    "for row in rows:\n",
    "    print(row)\n",
    "\n",
    "conn.close()"
   ]
  },
  {
   "cell_type": "code",
   "execution_count": 262,
   "metadata": {
    "id": "MUWbll4RluQg"
   },
   "outputs": [
    {
     "name": "stdout",
     "output_type": "stream",
     "text": [
      "('233-67-5758', 2)\n",
      "('303-96-2227', 2)\n",
      "('347-56-2442', 2)\n",
      "('727-02-1313', 2)\n",
      "('849-09-3807', 2)\n"
     ]
    }
   ],
   "source": [
    "#8 Check for duplicated invoices **(3 Pts)**\n",
    "\n",
    "conn = sqlite3.connect('mydatabase.db')\n",
    "cursor = conn.cursor()\n",
    "cursor.execute(\"\"\"\n",
    "    SELECT \"Invoice ID\", COUNT(*)\n",
    "    FROM my_table\n",
    "    GROUP BY \"Invoice ID\"\n",
    "    HAVING COUNT(*) > 1;\n",
    "\"\"\")\n",
    "\n",
    "rows = cursor.fetchall()\n",
    "\n",
    "\n",
    "for row in rows:\n",
    "    print(row)\n",
    "\n",
    "conn.close()"
   ]
  },
  {
   "cell_type": "markdown",
   "metadata": {
    "id": "hlDZmDHMWBrk"
   },
   "source": [
    "# SUBMIT FORMAT\n",
    "\n",
    "* **<-zip>**\n",
    "  - **studentID_name_surname_hw1.ipynb**\n"
   ]
  },
  {
   "cell_type": "markdown",
   "metadata": {
    "id": "fTXBu8Dql0Iv"
   },
   "source": [
    "# PLAGIARISM\n",
    "\n",
    "All work on assignments must be done individually. You are encouraged to discuss the given assignments with your classmates, but these discussions should be carried out in an abstract way. That is, discussions related to a particular solution to a specific probem (either in actual code or in pseudocode) will not be tolerated. In short, turning in someone else’s work (including work available on the internet), in whole or in part, as your own will be considered as a violation of academic integrity. Please note that the former conditions also hold for the material attained using AI tools, including ChatGPT, GitHub Copilot, etc."
   ]
  },
  {
   "cell_type": "code",
   "execution_count": null,
   "metadata": {},
   "outputs": [],
   "source": []
  },
  {
   "cell_type": "code",
   "execution_count": null,
   "metadata": {},
   "outputs": [],
   "source": []
  },
  {
   "cell_type": "code",
   "execution_count": null,
   "metadata": {},
   "outputs": [],
   "source": []
  }
 ],
 "metadata": {
  "colab": {
   "provenance": []
  },
  "kernelspec": {
   "display_name": "Python 3 (ipykernel)",
   "language": "python",
   "name": "python3"
  },
  "language_info": {
   "codemirror_mode": {
    "name": "ipython",
    "version": 3
   },
   "file_extension": ".py",
   "mimetype": "text/x-python",
   "name": "python",
   "nbconvert_exporter": "python",
   "pygments_lexer": "ipython3",
   "version": "3.11.7"
  }
 },
 "nbformat": 4,
 "nbformat_minor": 4
}
